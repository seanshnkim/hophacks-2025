{
  "cells": [
    {
      "cell_type": "markdown",
      "source": [
        "# Python Programming\n\nThis notebook covers fundamental concepts in Python programming, from basic data types to advanced topics like OOP and algorithms. We'll explore each topic with concise explanations and practical code examples."
      ],
      "metadata": {}
    },
    {
      "cell_type": "markdown",
      "source": [
        "## Python Basics and Data Types\n\nLearn about Python's fundamental building blocks: variables, basic data types (integers, floats, strings, booleans), and how to perform simple operations. Understanding these is crucial for writing any Python code."
      ],
      "metadata": {}
    },
    {
      "cell_type": "code",
      "source": [
        "# Variables and Data Types\n\n# Assigning values to variables\nname = \"Alice\"\nage = 30\nheight = 5.5\nis_student = True\n\n# Printing variables and their types\nprint(f\"Name: {name}, Type: {type(name)}\")\nprint(f\"Age: {age}, Type: {type(age)}\")\nprint(f\"Height: {height}, Type: {type(height)}\")\nprint(f\"Is Student: {is_student}, Type: {type(is_student)}\")\n\n# Basic arithmetic operations\nnum1 = 10\nnum2 = 5\nprint(f\"Sum: {num1 + num2}\")\nprint(f\"Difference: {num1 - num2}\")\nprint(f\"Product: {num1 * num2}\")\nprint(f\"Division: {num1 / num2}\")"
      ],
      "metadata": {
        "execution_count": null,
        "outputs": []
      },
      "execution_count": null,
      "outputs": []
    },
    {
      "cell_type": "markdown",
      "source": [
        "## Control Flow and Functions\n\nUnderstand how to control the execution of your code using conditional statements (`if`, `elif`, `else`) and loops (`for`, `while`). Learn to define and use functions to write reusable blocks of code."
      ],
      "metadata": {}
    },
    {
      "cell_type": "code",
      "source": [
        "# Conditional Statements\n\nx = 15\n\nif x > 10:\n    print(\"x is greater than 10\")\nelif x == 10:\n    print(\"x is equal to 10\")\nelse:\n    print(\"x is less than 10\")\n\n# For loop\nprint(\"\\nNumbers from 0 to 4:\")\nfor i in range(5):\n    print(i)\n\n# While loop\nprint(\"Counting down from 3:\")\ncount = 3\nwhile count > 0:\n    print(count)\n    count -= 1\n\n# Functions\ndef greet(person_name):\n    return f\"Hello, {person_name}!\"\n\nmessage = greet(\"Bob\")\nprint(f\"\\n{message}\")"
      ],
      "metadata": {
        "execution_count": null,
        "outputs": []
      },
      "execution_count": null,
      "outputs": []
    },
    {
      "cell_type": "markdown",
      "source": [
        "## Object-Oriented Programming in Python\n\nExplore the principles of OOP: classes, objects, inheritance, and polymorphism. Learn how to model real-world entities using classes and create instances (objects) of those classes."
      ],
      "metadata": {}
    },
    {
      "cell_type": "code",
      "source": [
        "# Classes and Objects\n\nclass Dog:\n    def __init__(self, name, breed):\n        self.name = name\n        self.breed = breed\n\n    def bark(self):\n        return \"Woof!\"\n\n# Creating an object (instance) of the Dog class\nmy_dog = Dog(\"Buddy\", \"Golden Retriever\")\n\n# Accessing attributes and methods\nprint(f\"My dog's name is {my_dog.name} and it's a {my_dog.breed}.\")\nprint(f\"My dog says: {my_dog.bark()}\")\n\n# Inheritance example\nclass Poodle(Dog):\n    def __init__(self, name, color):\n        super().__init__(name, \"Poodle\")\n        self.color = color\n\n    def groom(self):\n        return f\"{self.name} is getting groomed.\"\n\nmy_poodle = Poodle(\"Lucy\", \"White\")\nprint(f\"\\nMy poodle's name is {my_poodle.name} and its color is {my_poodle.color}.\")\nprint(f\"My poodle says: {my_poodle.bark()}\")\nprint(my_poodle.groom())"
      ],
      "metadata": {
        "execution_count": null,
        "outputs": []
      },
      "execution_count": null,
      "outputs": []
    },
    {
      "cell_type": "markdown",
      "source": [
        "## File Handling and Modules\n\nLearn how to read from and write to files, which is essential for data persistence. Discover how to use Python's built-in modules and how to import and use external libraries."
      ],
      "metadata": {}
    },
    {
      "cell_type": "code",
      "source": [
        "# Writing to a file\n\nwith open(\"example.txt\", \"w\") as f:\n    f.write(\"This is the first line.\\n\")\n    f.write(\"This is the second line.\\n\")\n\n# Reading from a file\nprint(\"\\nContent of example.txt:\")\nwith open(\"example.txt\", \"r\") as f:\n    content = f.read()\n    print(content)\n\n# Using a module (math)\nimport math\n\nradius = 5\narea = math.pi * radius**2\nprint(f\"Area of a circle with radius {radius}: {area:.2f}\")"
      ],
      "metadata": {
        "execution_count": null,
        "outputs": []
      },
      "execution_count": null,
      "outputs": []
    },
    {
      "cell_type": "markdown",
      "source": [
        "## Data Structures and Algorithms in Python\n\nUnderstand common data structures like lists, tuples, dictionaries, and sets, and learn about basic algorithmic concepts such as searching and sorting. These are fundamental for efficient data manipulation."
      ],
      "metadata": {}
    },
    {
      "cell_type": "code",
      "source": [
        "# Lists (Mutable, Ordered)\nmy_list = [1, 2, 3, 2]\nmy_list.append(4) # Add an element\nprint(f\"List: {my_list}\")\nprint(f\"Count of 2 in list: {my_list.count(2)}\")\n\n# Tuples (Immutable, Ordered)\nmy_tuple = (10, 20, 30)\nprint(f\"\\nTuple: {my_tuple}\")\n\n# Dictionaries (Key-Value pairs, Unordered before Python 3.7)\nmy_dict = {\"apple\": 1, \"banana\": 2}\nmy_dict[\"cherry\"] = 3 # Add a key-value pair\nprint(f\"\\nDictionary: {my_dict}\")\nprint(f\"Value for 'banana': {my_dict.get('banana')}\")\n\n# Sets (Unordered, Unique elements)\nmy_set = {1, 2, 3, 2}\nmy_set.add(4)\nprint(f\"\\nSet: {my_set}\")\n\n# Basic sorting (using lists)\nsorted_list = sorted(my_list)\nprint(f\"Sorted list: {sorted_list}\")"
      ],
      "metadata": {
        "execution_count": null,
        "outputs": []
      },
      "execution_count": null,
      "outputs": []
    }
  ],
  "metadata": {
    "kernelspec": {
      "display_name": "Python 3",
      "language": "python",
      "name": "python3"
    },
    "language_info": {
      "name": "python",
      "version": "3.8.0"
    }
  },
  "nbformat": 4,
  "nbformat_minor": 4
}