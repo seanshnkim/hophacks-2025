{
  "cells": [
    {
      "cell_type": "markdown",
      "source": [
        "# Python Programming\n\nThis notebook provides a concise introduction to fundamental Python programming concepts, covering essential building blocks and common programming paradigms."
      ],
      "metadata": {}
    },
    {
      "cell_type": "markdown",
      "source": [
        "## Python Basics: Variables, Data Types, and Operators\n\nLearn how to store and manipulate data using variables, understand different data types (integers, floats, strings, booleans), and use operators for calculations and comparisons."
      ],
      "metadata": {}
    },
    {
      "cell_type": "code",
      "source": [
        "# Variables and Data Types\n\n# Assigning values to variables\nname = \"Alice\"\nage = 30\nheight = 5.5\nis_student = True\n\n# Printing variables\nprint(f\"Name: {name}\")\nprint(f\"Age: {age}\")\nprint(f\"Height: {height}\")\nprint(f\"Is Student: {is_student}\")\n\n# Common Operators\nsum_result = age + 5\ncomparison = age > 25\n\nprint(f\"Age + 5: {sum_result}\")\nprint(f\"Is age > 25: {comparison}\")"
      ],
      "metadata": {
        "execution_count": null,
        "outputs": []
      },
      "execution_count": null,
      "outputs": []
    },
    {
      "cell_type": "markdown",
      "source": [
        "## Control Flow: Conditional Statements and Loops\n\nUnderstand how to control the execution path of your code using `if`, `elif`, and `else` statements for decision-making, and `for` and `while` loops for repeating tasks."
      ],
      "metadata": {}
    },
    {
      "cell_type": "code",
      "source": [
        "# Conditional Statements\n\nscore = 85\n\nif score >= 90:\n    print(\"Grade: A\")\nelif score >= 80:\n    print(\"Grade: B\")\nelse:\n    print(\"Grade: C or below\")\n\n# Loops\n\n# For loop\nprint(\"Counting to 3:\")\nfor i in range(1, 4):\n    print(i)\n\n# While loop\ncount = 0\nprint(\"Counting with while loop:\")\nwhile count < 3:\n    print(count)\n    count += 1"
      ],
      "metadata": {
        "execution_count": null,
        "outputs": []
      },
      "execution_count": null,
      "outputs": []
    },
    {
      "cell_type": "markdown",
      "source": [
        "## Functions and Modularity\n\nLearn to define and use functions to group reusable blocks of code, making your programs more organized and efficient. This promotes modularity and reduces redundancy."
      ],
      "metadata": {}
    },
    {
      "cell_type": "code",
      "source": [
        "# Defining and Calling Functions\n\ndef greet(person_name):\n    \"\"\"This function greets the person passed in as a parameter.\"\"\"\n    return f\"Hello, {person_name}!\"\n\n# Calling the function\nmessage = greet(\"Bob\")\nprint(message)\n\n# Function with multiple arguments\ndef add_numbers(num1, num2):\n    return num1 + num2\n\nresult = add_numbers(10, 5)\nprint(f\"Sum: {result}\")"
      ],
      "metadata": {
        "execution_count": null,
        "outputs": []
      },
      "execution_count": null,
      "outputs": []
    },
    {
      "cell_type": "markdown",
      "source": [
        "## Data Structures: Lists, Tuples, Dictionaries, and Sets\n\nExplore Python's built-in data structures for organizing collections of data. Understand their characteristics, common operations, and when to use each."
      ],
      "metadata": {}
    },
    {
      "cell_type": "code",
      "source": [
        "# Lists (Mutable, Ordered)\nmy_list = [1, \"apple\", 3.14]\nmy_list.append(\"banana\")\nprint(f\"List: {my_list}\")\n\n# Tuples (Immutable, Ordered)\nmy_tuple = (1, \"apple\", 3.14)\n# my_tuple.append(\"banana\") # This would cause an error\nprint(f\"Tuple: {my_tuple}\")\n\n# Dictionaries (Mutable, Unordered key-value pairs)\nmy_dict = {\"name\": \"Charlie\", \"age\": 25}\nmy_dict[\"city\"] = \"New York\"\nprint(f\"Dictionary: {my_dict}\")\n\n# Sets (Mutable, Unordered, Unique elements)\nmy_set = {1, 2, 2, 3, 4}\nmy_set.add(5)\nprint(f\"Set: {my_set}\")"
      ],
      "metadata": {
        "execution_count": null,
        "outputs": []
      },
      "execution_count": null,
      "outputs": []
    },
    {
      "cell_type": "markdown",
      "source": [
        "## Object-Oriented Programming in Python\n\nGet an introduction to OOP concepts like classes and objects. Learn how to define your own classes to model real-world entities and create instances of these classes."
      ],
      "metadata": {}
    },
    {
      "cell_type": "code",
      "source": [
        "# Classes and Objects\n\nclass Dog:\n    def __init__(self, name, breed):\n        self.name = name\n        self.breed = breed\n\n    def bark(self):\n        return \"Woof!\"\n\n# Creating objects (instances of the Dog class)\nmy_dog = Dog(\"Buddy\", \"Golden Retriever\")\nprint(f\"Dog's name: {my_dog.name}\")\nprint(f\"Dog's breed: {my_dog.breed}\")\nprint(f\"Dog says: {my_dog.bark()}\")"
      ],
      "metadata": {
        "execution_count": null,
        "outputs": []
      },
      "execution_count": null,
      "outputs": []
    }
  ],
  "metadata": {
    "kernelspec": {
      "display_name": "Python 3",
      "language": "python",
      "name": "python3"
    },
    "language_info": {
      "codemirror_mode": {
        "name": "ipython",
        "version": 3
      },
      "file_extension": ".py",
      "mimetype": "text/x-python",
      "name": "python",
      "nbconvert_exporter": "python",
      "pygments_lexer": "ipython3",
      "version": "3.11.4"
    }
  },
  "nbformat": 4,
  "nbformat_minor": 5
}