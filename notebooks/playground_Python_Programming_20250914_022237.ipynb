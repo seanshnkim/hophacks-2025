{
  "cells": [
    {
      "cell_type": "markdown",
      "source": [
        "# Python Programming\n\nWelcome to this introduction to Python programming. This notebook will guide you through fundamental concepts, from basic syntax to essential libraries for data science."
      ],
      "metadata": {}
    },
    {
      "cell_type": "markdown",
      "source": [
        "## Python Syntax and Data Types\n\nPython is known for its readable syntax. We'll cover basic data types like integers, floats, strings, and booleans. Understanding these is crucial for writing any Python code."
      ],
      "metadata": {}
    },
    {
      "cell_type": "code",
      "source": [
        "# Declare variables of different types\ninteger_var = 10\nfloat_var = 3.14\nstring_var = \"Hello, Python!\"\nboolean_var = True\n\n# Print the variables and their types\nprint(f\"Integer: {integer_var}, Type: {type(integer_var)}\")\nprint(f\"Float: {float_var}, Type: {type(float_var)}\")\nprint(f\"String: {string_var}, Type: {type(string_var)}\")\nprint(f\"Boolean: {boolean_var}, Type: {type(boolean_var)}\")\n\n# Basic arithmetic operations\nresult = integer_var * 2 + float_var\nprint(f\"Result of calculation: {result}\")"
      ],
      "metadata": {
        "execution_count": null,
        "outputs": []
      },
      "execution_count": null,
      "outputs": []
    },
    {
      "cell_type": "markdown",
      "source": [
        "## Control Flow and Functions\n\nControl flow statements (like `if`, `elif`, `else`, `for`, `while`) allow your program to make decisions and repeat actions. Functions help organize code into reusable blocks."
      ],
      "metadata": {}
    },
    {
      "cell_type": "code",
      "source": [
        "# If-elif-else statement\nx = 15\nif x > 10:\n    print(\"x is greater than 10\")\nelif x == 10:\n    print(\"x is exactly 10\")\nelse:\n    print(\"x is less than 10\")\n\n# For loop to iterate over a list\nfruits = [\"apple\", \"banana\", \"cherry\"]\nprint(\"\\nLooping through fruits:\")\nfor fruit in fruits:\n    print(fruit)\n\n# Define and call a simple function\ndef greet(name):\n    return f\"Hello, {name}!\"\n\nmessage = greet(\"Alice\")\nprint(f\"\\n{message}\")"
      ],
      "metadata": {
        "execution_count": null,
        "outputs": []
      },
      "execution_count": null,
      "outputs": []
    },
    {
      "cell_type": "markdown",
      "source": [
        "## Object-Oriented Programming in Python\n\nOOP allows you to structure code using objects, which have attributes (data) and methods (functions). Classes are blueprints for creating these objects."
      ],
      "metadata": {}
    },
    {
      "cell_type": "code",
      "source": [
        "# Define a simple class\nclass Dog:\n    def __init__(self, name, breed):\n        self.name = name\n        self.breed = breed\n\n    def bark(self):\n        return \"Woof!\"\n\n# Create an instance of the Dog class\nmy_dog = Dog(\"Buddy\", \"Golden Retriever\")\n\n# Access attributes and call methods\nprint(f\"My dog's name is {my_dog.name} and it's a {my_dog.breed}.\")\nprint(f\"My dog says: {my_dog.bark()}\")"
      ],
      "metadata": {
        "execution_count": null,
        "outputs": []
      },
      "execution_count": null,
      "outputs": []
    },
    {
      "cell_type": "markdown",
      "source": [
        "## File Handling and Modules\n\nFile handling lets you read from and write to files. Modules are Python files containing code that you can import and use in other Python programs, promoting code reuse."
      ],
      "metadata": {}
    },
    {
      "cell_type": "code",
      "source": [
        "# Writing to a file\nwith open(\"example.txt\", \"w\") as f:\n    f.write(\"This is the first line.\\n\")\n    f.write(\"This is the second line.\\n\")\n\n# Reading from a file\nprint(\"\\nReading from example.txt:\")\nwith open(\"example.txt\", \"r\") as f:\n    content = f.read()\n    print(content)\n\n# Importing a module (math)\nimport math\n\n# Using a function from the math module\nradius = 5\narea = math.pi * radius**2\nprint(f\"Area of a circle with radius {radius}: {area:.2f}\")"
      ],
      "metadata": {
        "execution_count": null,
        "outputs": []
      },
      "execution_count": null,
      "outputs": []
    },
    {
      "cell_type": "markdown",
      "source": [
        "## Introduction to Data Science Libraries\n\nPython has powerful libraries for data science like NumPy for numerical operations and Pandas for data manipulation. These libraries are fundamental for analyzing data."
      ],
      "metadata": {}
    },
    {
      "cell_type": "code",
      "source": [
        "# Import NumPy\nimport numpy as np\n\n# Create a NumPy array\nmy_array = np.array([1, 2, 3, 4, 5])\nprint(f\"NumPy array: {my_array}\")\nprint(f\"Array type: {type(my_array)}\")\n\n# Basic array operations\nprint(f\"Array squared: {my_array ** 2}\")\n\n# Import Pandas\nimport pandas as pd\n\n# Create a Pandas Series\nmy_series = pd.Series([10, 20, 30, 40])\nprint(f\"\\nPandas Series:\\n{my_series}\")\nprint(f\"Series type: {type(my_series)}\")\n\n# Create a Pandas DataFrame\ndata = {'col1': [1, 2], 'col2': [3, 4]}\ndf = pd.DataFrame(data)\nprint(f\"\\nPandas DataFrame:\\n{df}\")"
      ],
      "metadata": {
        "execution_count": null,
        "outputs": []
      },
      "execution_count": null,
      "outputs": []
    }
  ],
  "metadata": {
    "kernelspec": {
      "display_name": "Python 3",
      "language": "python",
      "name": "python3"
    },
    "language_info": {
      "codemirror_mode": {
        "name": "ipython",
        "version": 3
      },
      "file_extension": ".py",
      "mimetype": "text/x-python",
      "name": "python",
      "nbconvert_exporter": "python",
      "pygments_lexer": "ipython3",
      "version": "3.9.7"
    }
  },
  "nbformat": 4,
  "nbformat_minor": 4
}