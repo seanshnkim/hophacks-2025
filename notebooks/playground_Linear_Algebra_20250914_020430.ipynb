{
  "cells": [
    {
      "cell_type": "markdown",
      "source": [
        "# Linear Algebra Fundamentals\n\nLinear algebra is a branch of mathematics that studies vectors, vector spaces, linear mappings, and systems of linear equations. It's fundamental to many areas of science, engineering, and computer science."
      ],
      "metadata": {}
    },
    {
      "cell_type": "markdown",
      "source": [
        "## Vectors\n\nA vector is a mathematical object that has both magnitude and direction. In linear algebra, vectors are often represented as arrays of numbers. Understanding vectors is the first step in grasping linear algebra concepts."
      ],
      "metadata": {}
    },
    {
      "cell_type": "code",
      "source": [
        "# Creating and manipulating vectors\n\nimport numpy as np\n\n# Create a vector\nv = np.array([1, 2, 3])\nprint(f\"Vector v: {v}\")\n\n# Vector addition\nu = np.array([4, 5, 6])\nprint(f\"Vector u: {u}\")\nprint(f\"v + u: {v + u}\")\n\n# Scalar multiplication\nscalar = 2\nprint(f\"{scalar} * v: {scalar * v}\")\n\n# Dot product\nprint(f\"v dot u: {np.dot(v, u)}\")"
      ],
      "metadata": {
        "execution_count": null,
        "outputs": []
      },
      "execution_count": null,
      "outputs": []
    },
    {
      "cell_type": "markdown",
      "source": [
        "## Matrices\n\nA matrix is a rectangular array of numbers, symbols, or expressions, arranged in rows and columns. Matrices are used to represent linear transformations and solve systems of linear equations. They are a cornerstone of linear algebra."
      ],
      "metadata": {}
    },
    {
      "cell_type": "code",
      "source": [
        "# Creating and manipulating matrices\n\nimport numpy as np\n\n# Create a matrix\nA = np.array([[1, 2], [3, 4]])\nprint(f\"Matrix A:\\n{A}\")\n\n# Matrix addition\nB = np.array([[5, 6], [7, 8]])\nprint(f\"Matrix B:\\n{B}\")\nprint(f\"A + B:\\n{A + B}\")\n\n# Matrix multiplication (dot product)\nprint(f\"A @ B:\\n{A @ B}\")\n\n# Transpose of a matrix\nprint(f\"Transpose of A:\\n{A.T}\")"
      ],
      "metadata": {
        "execution_count": null,
        "outputs": []
      },
      "execution_count": null,
      "outputs": []
    },
    {
      "cell_type": "markdown",
      "source": [
        "## Linear Transformations\n\nA linear transformation is a function between two vector spaces that preserves vector addition and scalar multiplication. These transformations can be represented by matrices, allowing us to manipulate vectors and spaces geometrically."
      ],
      "metadata": {}
    },
    {
      "cell_type": "code",
      "source": [
        "# Applying a linear transformation\n\nimport numpy as np\n\n# Define a transformation matrix (e.g., rotation by 90 degrees)\nT = np.array([[0, -1], [1, 0]])\n\n# Define a vector\nv = np.array([2, 1])\n\n# Apply the transformation\nv_transformed = T @ v\nprint(f\"Original vector: {v}\")\nprint(f\"Transformed vector: {v_transformed}\")\n\n# Visualize the transformation (requires matplotlib)\nimport matplotlib.pyplot as plt\n\nplt.figure(figsize=(4, 4))\nplt.quiver([0], [0], [v[0]], [v[1]], angles='xy', scale_units='xy', scale=1, color='r', label='Original Vector')\nplt.quiver([0], [0], [v_transformed[0]], [v_transformed[1]], angles='xy', scale_units='xy', scale=1, color='b', label='Transformed Vector')\n\nplt.xlim([-3, 3])\nplt.ylim([-3, 3])\nplt.axhline(0, color='grey', lw=0.5)\nplt.axvline(0, color='grey', lw=0.5)\nplt.grid()\nplt.gca().set_aspect('equal', adjustable='box')\nplt.title('Vector Transformation')\nplt.legend()\nplt.show()"
      ],
      "metadata": {
        "execution_count": null,
        "outputs": []
      },
      "execution_count": null,
      "outputs": []
    },
    {
      "cell_type": "markdown",
      "source": [
        "## Eigenvalues and Eigenvectors\n\nEigenvectors are special vectors that do not change direction when a linear transformation is applied to them; they only scale by a factor called the eigenvalue. They reveal fundamental properties of linear transformations and matrices."
      ],
      "metadata": {}
    },
    {
      "cell_type": "code",
      "source": [
        "# Finding eigenvalues and eigenvectors\n\nimport numpy as np\n\n# Define a matrix\nA = np.array([[2, 1], [1, 2]])\nprint(f\"Matrix A:\\n{A}\")\n\n# Calculate eigenvalues and eigenvectors\neigenvalues, eigenvectors = np.linalg.eig(A)\n\nprint(f\"Eigenvalues: {eigenvalues}\")\nprint(f\"Eigenvectors:\\n{eigenvectors}\")\n\n# Verify for the first eigenvector\neval1 = eigenvalues[0]\nevec1 = eigenvectors[:, 0]\n\nprint(f\"A @ evec1 = {A @ evec1}\")\nprint(f\"eval1 * evec1 = {eval1 * evec1}\")"
      ],
      "metadata": {
        "execution_count": null,
        "outputs": []
      },
      "execution_count": null,
      "outputs": []
    },
    {
      "cell_type": "markdown",
      "source": [
        "## Applications\n\nLinear algebra has vast applications, including computer graphics (transformations), machine learning (data representation, algorithms), physics (quantum mechanics), economics (modeling), and more. It's a powerful tool for solving complex problems."
      ],
      "metadata": {}
    },
    {
      "cell_type": "code",
      "source": [
        "# Simple application: Solving a system of linear equations\n\nimport numpy as np\n\n# System of equations:\n# 2x + 3y = 8\n# x - y = 1\n\n# Represented as Ax = b\nA = np.array([[2, 3], [1, -1]])\nb = np.array([8, 1])\n\n# Solve for x and y\nx = np.linalg.solve(A, b)\n\nprint(f\"The solution is x = {x[0]} and y = {x[1]}\")\n\n# Verification\nprint(f\"Verification: A @ x = {A @ x}\")"
      ],
      "metadata": {
        "execution_count": null,
        "outputs": []
      },
      "execution_count": null,
      "outputs": []
    }
  ],
  "metadata": {
    "kernelspec": {
      "display_name": "Python 3",
      "language": "python",
      "name": "python3"
    },
    "language_info": {
      "codemirror_mode": {
        "name": "ipython",
        "version": 3
      },
      "file_extension": ".py",
      "mimetype": "text/x-python",
      "name": "python",
      "nbconvert_exporter": "python",
      "pygments_lexer": "ipython3",
      "version": "3.9.7"
    }
  },
  "nbformat": 4,
  "nbformat_minor": 4
}