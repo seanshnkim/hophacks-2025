{
  "cells": [
    {
      "cell_type": "markdown",
      "source": [
        "# Linear Algebra Fundamentals\n\nLinear algebra is a branch of mathematics that deals with vectors, vector spaces, and linear mappings between such spaces. It's a fundamental tool in many areas of science, engineering, and computer science."
      ],
      "metadata": {}
    },
    {
      "cell_type": "markdown",
      "source": [
        "## Vectors\n\nA vector is a mathematical object that has both magnitude and direction. In linear algebra, we often represent vectors as ordered lists of numbers. We'll explore how to create and manipulate vectors using Python."
      ],
      "metadata": {}
    },
    {
      "cell_type": "code",
      "source": [
        "# Importing numpy for numerical operations\nimport numpy as np\n\n# Creating a vector\nvector_a = np.array([1, 2, 3])\nprint(f\"Vector a: {vector_a}\")\n\n# Vector addition\nvector_b = np.array([4, 5, 6])\nsum_vector = vector_a + vector_b\nprint(f\"Sum of vectors: {sum_vector}\")\n\n# Scalar multiplication\nscaled_vector = 2 * vector_a\nprint(f\"Scaled vector: {scaled_vector}\")"
      ],
      "metadata": {
        "execution_count": null,
        "outputs": []
      },
      "execution_count": null,
      "outputs": []
    },
    {
      "cell_type": "markdown",
      "source": [
        "## Matrices\n\nA matrix is a rectangular array of numbers. They are used to represent systems of linear equations, transformations, and datasets. We'll learn how to create and perform basic operations on matrices."
      ],
      "metadata": {}
    },
    {
      "cell_type": "code",
      "source": [
        "# Creating a matrix\nmatrix_a = np.array([[1, 2], [3, 4]])\nprint(f\"Matrix A:\\n{matrix_a}\")\n\n# Matrix addition\nmatrix_b = np.array([[5, 6], [7, 8]])\nsum_matrix = matrix_a + matrix_b\nprint(f\"Sum of matrices:\\n{sum_matrix}\")\n\n# Matrix multiplication (dot product)\nproduct_matrix = np.dot(matrix_a, matrix_b)\nprint(f\"Product of matrices:\\n{product_matrix}\")"
      ],
      "metadata": {
        "execution_count": null,
        "outputs": []
      },
      "execution_count": null,
      "outputs": []
    },
    {
      "cell_type": "markdown",
      "source": [
        "## Linear Transformations\n\nA linear transformation is a function between two vector spaces that preserves the operations of vector addition and scalar multiplication. Matrices can represent these transformations, allowing us to scale, rotate, or shear vectors."
      ],
      "metadata": {}
    },
    {
      "cell_type": "code",
      "source": [
        "# Applying a transformation to a vector\n# Let's use matrix_a from before as our transformation matrix\nvector_v = np.array([1, 1])\n\ntransformed_v = np.dot(matrix_a, vector_v)\nprint(f\"Original vector: {vector_v}\")\nprint(f\"Transformed vector: {transformed_v}\")\n\n# Example: Rotation matrix (2D)\nangle = np.pi / 4  # 45 degrees\nrotation_matrix = np.array([\n    [np.cos(angle), -np.sin(angle)],\n    [np.sin(angle), np.cos(angle)]\n])\nrotated_v = np.dot(rotation_matrix, vector_v)\nprint(f\"Rotated vector: {rotated_v}\")"
      ],
      "metadata": {
        "execution_count": null,
        "outputs": []
      },
      "execution_count": null,
      "outputs": []
    },
    {
      "cell_type": "markdown",
      "source": [
        "## Eigenvalues and Eigenvectors\n\nEigenvectors are special vectors that, when a linear transformation is applied to them, only change by a scalar factor. This scalar factor is the eigenvalue. They are crucial for understanding the behavior of transformations."
      ],
      "metadata": {}
    },
    {
      "cell_type": "code",
      "source": [
        "# Calculating eigenvalues and eigenvectors\n# Using matrix_a again\neigenvalues, eigenvectors = np.linalg.eig(matrix_a)\n\nprint(f\"Matrix A:\\n{matrix_a}\")\nprint(f\"Eigenvalues: {eigenvalues}\")\nprint(f\"Eigenvectors:\\n{eigenvectors}\")\n\n# Verification: A * v = lambda * v\nfor i in range(len(eigenvalues)):\n    lambda_v = eigenvalues[i] * eigenvectors[:, i]\n    Av = np.dot(matrix_a, eigenvectors[:, i])\n    print(f\"\\nVerification for eigenvector {i+1}:\")\n    print(f\"  A * v = {Av}\")\n    print(f\"  lambda * v = {lambda_v}\")\n    # Check if they are close\n    print(f\"  Are they close? {np.allclose(Av, lambda_v)}\")"
      ],
      "metadata": {
        "execution_count": null,
        "outputs": []
      },
      "execution_count": null,
      "outputs": []
    },
    {
      "cell_type": "markdown",
      "source": [
        "## Applications\n\nLinear algebra has widespread applications, including computer graphics (transformations), machine learning (data representation, algorithms like PCA), physics (quantum mechanics), and engineering (solving systems of equations)."
      ],
      "metadata": {}
    },
    {
      "cell_type": "code",
      "source": [
        "# Example: Simple image compression using SVD (Singular Value Decomposition)\n# SVD is a powerful matrix factorization technique derived from linear algebra.\n\n# Create a simple 'image' (a matrix)\noriginal_image = np.array([\n    [1, 2, 3, 4, 5],\n    [6, 7, 8, 9, 10],\n    [11, 12, 13, 14, 15],\n    [16, 17, 18, 19, 20]\n])\nprint(f\"Original Image (Matrix):\\n{original_image}\")\n\n# Perform SVD\nU, S, Vh = np.linalg.svd(original_image)\n\n# Reconstruct the image with fewer components (e.g., keep top 2 singular values)\n# This is a form of dimensionality reduction / compression\nrank_to_keep = 2\ncompressed_image = U[:, :rank_to_keep] @ np.diag(S[:rank_to_keep]) @ Vh[:rank_to_keep, :]\n\nprint(f\"\\nCompressed Image (using top {rank_to_keep} singular values):\\n{compressed_image}\")\n\n# Note: For real image compression, you'd use libraries like Pillow and more sophisticated methods."
      ],
      "metadata": {
        "execution_count": null,
        "outputs": []
      },
      "execution_count": null,
      "outputs": []
    }
  ],
  "metadata": {
    "kernelspec": {
      "display_name": "Python 3",
      "language": "python",
      "name": "python3"
    },
    "language_info": {
      "name": "python",
      "version": "3.8.5"
    }
  },
  "nbformat": 4,
  "nbformat_minor": 4
}